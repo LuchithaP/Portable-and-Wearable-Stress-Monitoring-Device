{
  "nbformat": 4,
  "nbformat_minor": 0,
  "metadata": {
    "colab": {
      "provenance": []
    },
    "kernelspec": {
      "name": "python3",
      "display_name": "Python 3"
    }
  },
  "cells": [
    {
      "cell_type": "code",
      "metadata": {
        "id": "h1-0VB65OwiE"
      },
      "source": [
        "!pip install scikit-fuzzy > /dev/null 2>&1"
      ],
      "execution_count": null,
      "outputs": []
    },
    {
      "cell_type": "code",
      "metadata": {
        "id": "uv5Ee27KOg0o",
        "outputId": "47e48021-39d4-4ab2-d5ef-94a85128699c",
        "colab": {
          "base_uri": "https://localhost:8080/",
          "height": 414
        }
      },
      "source": [
        "import numpy as np\n",
        "import skfuzzy\n",
        "from skfuzzy import control\n",
        "\n",
        "\n",
        "# Universe of Discourse\n",
        "IP_universe_of_discourse = np.arange(0, 100, 1)\n",
        "OP_universe_of_discourse = np.arange(0, 60, 1)\n",
        "\n",
        "# Inputs to FLC\n",
        "dirt = control.Antecedent(universe=IP_universe_of_discourse, label=\"dirt\")\n",
        "dirt[\"SD\"] = skfuzzy.membership.trimf(dirt.universe, [0, 0, 50])\n",
        "dirt[\"MD\"] = skfuzzy.membership.trimf(dirt.universe, [0, 50, 100])\n",
        "dirt[\"LD\"] = skfuzzy.membership.trimf(dirt.universe, [50, 100, 100])\n",
        "# dirt.view()\n",
        "\n",
        "grease = control.Antecedent(universe=IP_universe_of_discourse, label=\"grease\")\n",
        "grease[\"SG\"] = skfuzzy.membership.trimf(grease.universe, [0, 0, 50])\n",
        "grease[\"MG\"] = skfuzzy.membership.trimf(grease.universe, [0, 50, 100])\n",
        "grease[\"LG\"] = skfuzzy.membership.trimf(grease.universe, [50, 100, 100])\n",
        "# grease.view()\n",
        "\n",
        "# Output from FLC\n",
        "wash_time = control.Consequent(universe=OP_universe_of_discourse, label=\"wash_time\")\n",
        "wash_time.defuzzify_method = \"mom\"\n",
        "wash_time[\"VS\"] = skfuzzy.membership.trimf(wash_time.universe, [0, 0, 10])\n",
        "wash_time[\"S\"] = skfuzzy.membership.trimf(wash_time.universe, [0, 10, 25])\n",
        "wash_time[\"M\"] = skfuzzy.membership.trimf(wash_time.universe, [10, 25, 40])\n",
        "wash_time[\"L\"] = skfuzzy.membership.trimf(wash_time.universe, [25, 40, 60])\n",
        "wash_time[\"VL\"] = skfuzzy.membership.trimf(wash_time.universe, [40, 60, 60])\n",
        "\n",
        "\n",
        "# Defining the rules\n",
        "rule_1 = control.Rule(\n",
        "    antecedent=(dirt[\"SD\"] & grease[\"SG\"]), consequent=wash_time[\"VS\"]\n",
        ")\n",
        "rule_2 = control.Rule(dirt[\"SD\"] & grease[\"MG\"], wash_time[\"M\"])\n",
        "rule_3 = control.Rule(dirt[\"SD\"] & grease[\"LG\"], wash_time[\"L\"])\n",
        "rule_4 = control.Rule(dirt[\"MD\"] & grease[\"SG\"], wash_time[\"S\"])\n",
        "rule_5 = control.Rule(dirt[\"MD\"] & grease[\"MG\"], wash_time[\"M\"])\n",
        "rule_6 = control.Rule(dirt[\"MD\"] & grease[\"LG\"], wash_time[\"L\"])\n",
        "rule_7 = control.Rule(dirt[\"LD\"] & grease[\"SG\"], wash_time[\"M\"])\n",
        "rule_8 = control.Rule(dirt[\"LD\"] & grease[\"MG\"], wash_time[\"L\"])\n",
        "rule_9 = control.Rule(dirt[\"LD\"] & grease[\"LG\"], wash_time[\"VL\"])\n",
        "\n",
        "wash_control_sys = control.ControlSystem(\n",
        "    rules=[rule_1, rule_2, rule_3, rule_4, rule_5, rule_6, rule_7, rule_8, rule_9]\n",
        ")\n",
        "\n",
        "washing_machine = control.ControlSystemSimulation(control_system=wash_control_sys)\n",
        "\n",
        "dirt_list = [80]\n",
        "grease_list = [90]\n",
        "\n",
        "for dirt_val, grease_val in zip(dirt_list, grease_list):\n",
        "    washing_machine.inputs({\"dirt\": dirt_val, \"grease\": grease_val})\n",
        "\n",
        "    washing_machine.compute()\n",
        "    washing_machine.print_state()\n",
        "    print(\n",
        "        \"\\n\\tWash-time for {} % Dirt & {} % Grease: {}\".format(\n",
        "            dirt_val, grease_val, washing_machine.output[\"wash_time\"]\n",
        "        )\n",
        "    )\n",
        "\n",
        "wash_time.view(sim=washing_machine)"
      ],
      "execution_count": null,
      "outputs": [
        {
          "output_type": "stream",
          "text": [
            "=============\n",
            " Antecedents \n",
            "=============\n"
          ],
          "name": "stdout"
        },
        {
          "output_type": "error",
          "ename": "TypeError",
          "evalue": "ignored",
          "traceback": [
            "\u001b[0;31m---------------------------------------------------------------------------\u001b[0m",
            "\u001b[0;31mTypeError\u001b[0m                                 Traceback (most recent call last)",
            "\u001b[0;32m<ipython-input-2-5adb642f1f83>\u001b[0m in \u001b[0;36m<module>\u001b[0;34m()\u001b[0m\n\u001b[1;32m     57\u001b[0m \u001b[0;34m\u001b[0m\u001b[0m\n\u001b[1;32m     58\u001b[0m     \u001b[0mwashing_machine\u001b[0m\u001b[0;34m.\u001b[0m\u001b[0mcompute\u001b[0m\u001b[0;34m(\u001b[0m\u001b[0;34m)\u001b[0m\u001b[0;34m\u001b[0m\u001b[0;34m\u001b[0m\u001b[0m\n\u001b[0;32m---> 59\u001b[0;31m     \u001b[0mwashing_machine\u001b[0m\u001b[0;34m.\u001b[0m\u001b[0mprint_state\u001b[0m\u001b[0;34m(\u001b[0m\u001b[0;34m)\u001b[0m\u001b[0;34m\u001b[0m\u001b[0;34m\u001b[0m\u001b[0m\n\u001b[0m\u001b[1;32m     60\u001b[0m     print(\n\u001b[1;32m     61\u001b[0m         \"\\n\\tWash-time for {} % Dirt & {} % Grease: {}\".format(\n",
            "\u001b[0;32m/usr/local/lib/python3.6/dist-packages/skfuzzy/control/controlsystem.py\u001b[0m in \u001b[0;36mprint_state\u001b[0;34m(self)\u001b[0m\n\u001b[1;32m    502\u001b[0m         \u001b[0mprint\u001b[0m\u001b[0;34m(\u001b[0m\u001b[0;34m\"=============\"\u001b[0m\u001b[0;34m)\u001b[0m\u001b[0;34m\u001b[0m\u001b[0;34m\u001b[0m\u001b[0m\n\u001b[1;32m    503\u001b[0m         \u001b[0;32mfor\u001b[0m \u001b[0mv\u001b[0m \u001b[0;32min\u001b[0m \u001b[0mself\u001b[0m\u001b[0;34m.\u001b[0m\u001b[0mctrl\u001b[0m\u001b[0;34m.\u001b[0m\u001b[0mantecedents\u001b[0m\u001b[0;34m:\u001b[0m\u001b[0;34m\u001b[0m\u001b[0;34m\u001b[0m\u001b[0m\n\u001b[0;32m--> 504\u001b[0;31m             \u001b[0mprint\u001b[0m\u001b[0;34m(\u001b[0m\u001b[0;34m\"{0:<35} = {1}\"\u001b[0m\u001b[0;34m.\u001b[0m\u001b[0mformat\u001b[0m\u001b[0;34m(\u001b[0m\u001b[0mv\u001b[0m\u001b[0;34m,\u001b[0m \u001b[0mv\u001b[0m\u001b[0;34m.\u001b[0m\u001b[0minput\u001b[0m\u001b[0;34m[\u001b[0m\u001b[0mself\u001b[0m\u001b[0;34m]\u001b[0m\u001b[0;34m)\u001b[0m\u001b[0;34m)\u001b[0m\u001b[0;34m\u001b[0m\u001b[0;34m\u001b[0m\u001b[0m\n\u001b[0m\u001b[1;32m    505\u001b[0m             \u001b[0;32mfor\u001b[0m \u001b[0mterm\u001b[0m \u001b[0;32min\u001b[0m \u001b[0mv\u001b[0m\u001b[0;34m.\u001b[0m\u001b[0mterms\u001b[0m\u001b[0;34m.\u001b[0m\u001b[0mvalues\u001b[0m\u001b[0;34m(\u001b[0m\u001b[0;34m)\u001b[0m\u001b[0;34m:\u001b[0m\u001b[0;34m\u001b[0m\u001b[0;34m\u001b[0m\u001b[0m\n\u001b[1;32m    506\u001b[0m                 print(\"  - {0:<32}: {1}\".format(term.label,\n",
            "\u001b[0;31mTypeError\u001b[0m: unsupported format string passed to Antecedent.__format__"
          ]
        }
      ]
    }
  ]
}